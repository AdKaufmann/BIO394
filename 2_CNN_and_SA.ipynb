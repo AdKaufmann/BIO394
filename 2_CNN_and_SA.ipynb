{
 "cells": [
  {
   "cell_type": "code",
   "execution_count": 123,
   "metadata": {},
   "outputs": [],
   "source": [
    "import numpy as np\n",
    "import matplotlib.pyplot as plt\n",
    "import os\n",
    "import cv2\n",
    "\n",
    "import keras\n",
    "import tensorflow as tf\n",
    "from tensorflow.keras.datasets import cifar10\n",
    "from tensorflow.keras.preprocessing.image import ImageDataGenerator\n",
    "from tensorflow.keras.models import Sequential\n",
    "from tensorflow.keras.layers import Dense, Dropout, Activation, Flatten, Conv2D, MaxPooling2D\n"
   ]
  },
  {
   "cell_type": "markdown",
   "metadata": {},
   "source": [
    "# Convolutional neural network (CNN)"
   ]
  },
  {
   "cell_type": "code",
   "execution_count": 124,
   "metadata": {},
   "outputs": [
    {
     "data": {
      "image/png": "[encoded data removed]",
      "text/plain": [
       "<Figure size 432x288 with 1 Axes>"
      ]
     },
     "metadata": {
      "needs_background": "light"
     },
     "output_type": "display_data"
    }
   ],
   "source": [
    "directory = '/Users/adriankaufmann/Desktop/RGBimages_trainingset/'\n",
    "categories = ['negative_all', 'positive_all']\n",
    "\n",
    "#path to positive/negative directory\n",
    "for category in categories:\n",
    "    path = os.path.join(directory, category)\n",
    "    for img in os.listdir(path):\n",
    "        img_array = cv2.imread(os.path.join(path, img))#, cv2.IMREAD_GRAYSCALE)\n",
    "        plt.imshow(img_array)\n",
    "        plt.show\n",
    "        break\n",
    "    break"
   ]
  },
  {
   "cell_type": "code",
   "execution_count": 125,
   "metadata": {},
   "outputs": [],
   "source": [
    "training_data = []\n",
    "\n",
    "\n",
    "for category in categories:\n",
    "    path = os.path.join(directory, category)\n",
    "    class_num = categories.index(category) #negative should be zero now\n",
    "    for img in os.listdir(path):\n",
    "        img_array = cv2.imread(os.path.join(path, img))#, cv2.IMREAD_GRAYSCALE)\n",
    "        #new_array = cv2.resize(img_array, (WIDTH, LENTH))\n",
    "        training_data.append([img_array, class_num])\n",
    "    \n"
   ]
  },
  {
   "cell_type": "code",
   "execution_count": 126,
   "metadata": {},
   "outputs": [],
   "source": [
    "# getting rid of the 'corrupted' images (need to find out why they occured)\n",
    "training = []\n",
    "for c,i in enumerate(training_data):\n",
    "    if i[0] is not None:\n",
    "        training.append(i)"
   ]
  },
  {
   "cell_type": "code",
   "execution_count": 129,
   "metadata": {},
   "outputs": [],
   "source": [
    "#pack it into parameters to feed neural network\n",
    "\n",
    "X = [] #feature set\n",
    "y = [] #labels\n",
    "\n",
    "for features, label in training:\n",
    "    X.append(features)\n",
    "    y.append(label)\n",
    "\n"
   ]
  },
  {
   "cell_type": "code",
   "execution_count": 130,
   "metadata": {},
   "outputs": [],
   "source": [
    "#shuffle the data, to mix up the two categories\n",
    "\n",
    "\n",
    "from sklearn.utils import shuffle\n",
    "import numpy as np\n",
    "\n",
    "X, y = shuffle(X, y)"
   ]
  },
  {
   "cell_type": "code",
   "execution_count": 131,
   "metadata": {},
   "outputs": [],
   "source": [
    "## SEQUENCE PADDING\n",
    "for c,i in enumerate(X):\n",
    "    X[c] = tf.image.resize_with_pad(i, 698, 133, method=tf.image.ResizeMethod.BILINEAR, antialias=False)\n",
    "    "
   ]
  },
  {
   "cell_type": "code",
   "execution_count": 132,
   "metadata": {},
   "outputs": [],
   "source": [
    "#convert X list into array\n",
    "\n",
    "X = np.array(X).astype(np.float32) #.reshape(-1,698,3)#.astype('float32') #(all features, colors)\n",
    "y = np.array(y).astype(np.float32) "
   ]
  },
  {
   "cell_type": "code",
   "execution_count": 133,
   "metadata": {},
   "outputs": [],
   "source": [
    "X = X.reshape(X.shape[0], X.shape[1], X.shape[2], 3)\n"
   ]
  },
  {
   "cell_type": "code",
   "execution_count": 134,
   "metadata": {},
   "outputs": [],
   "source": [
    "# normalizing the data (between 0 and 1)\n",
    "X = X.astype(\"float\") / 255.0"
   ]
  },
  {
   "cell_type": "code",
   "execution_count": 135,
   "metadata": {},
   "outputs": [],
   "source": [
    "#splitting the data into test and validation subset\n",
    "from sklearn.model_selection import train_test_split\n",
    "X_train, X_test, y_train, y_test = train_test_split(X, y, test_size=0.33)"
   ]
  },
  {
   "cell_type": "code",
   "execution_count": 136,
   "metadata": {},
   "outputs": [],
   "source": [
    "model = Sequential()\n",
    "\n",
    "model.add(Conv2D(256, (3, 3), input_shape= (698,133,3))) #X.shape[1:]))\n",
    "model.add(Activation('relu'))\n",
    "model.add(MaxPooling2D(pool_size=(2, 2)))\n",
    "\n",
    "model.add(Conv2D(256, (3, 3)))\n",
    "model.add(Activation('relu'))\n",
    "model.add(MaxPooling2D(pool_size=(2, 2)))\n",
    "\n",
    "model.add(Flatten())  #convert 3D feature maps to 1D feature vectors\n",
    "\n",
    "model.add(Dense(64))\n",
    "\n",
    "model.add(Dense(1))\n",
    "model.add(Activation('sigmoid'))\n",
    "\n",
    "model.compile(loss='binary_crossentropy', optimizer='adam', metrics=['accuracy'])\n"
   ]
  },
  {
   "cell_type": "code",
   "execution_count": 137,
   "metadata": {},
   "outputs": [
    {
     "data": {
      "text/plain": [
       "(660, 698, 133, 3)"
      ]
     },
     "execution_count": 137,
     "metadata": {},
     "output_type": "execute_result"
    }
   ],
   "source": [
    "X.shape[:]\n"
   ]
  },
  {
   "cell_type": "code",
   "execution_count": null,
   "metadata": {},
   "outputs": [],
   "source": [
    "model.fit(X, y, batch_size=4, epochs=3)"
   ]
  },
  {
   "cell_type": "markdown",
   "metadata": {},
   "source": [
    "# CNN training results"
   ]
  },
  {
   "cell_type": "code",
   "execution_count": null,
   "metadata": {},
   "outputs": [],
   "source": [
    "predictions = model.predict_classes(X_test)"
   ]
  },
  {
   "cell_type": "code",
   "execution_count": null,
   "metadata": {},
   "outputs": [],
   "source": [
    "from sklearn.metrics import confusion_matrix\n",
    "\n",
    "cf_matrix_all = confusion_matrix(y_test, predictions)\n",
    "print(cf_matrix_all)"
   ]
  },
  {
   "cell_type": "code",
   "execution_count": null,
   "metadata": {},
   "outputs": [],
   "source": [
    "fig = plt.figure()\n",
    "ax = fig.add_subplot(111)\n",
    "\n",
    "# plot the matrix\n",
    "cax = ax.matshow(cf_matrix_all)\n",
    "\n",
    "# add colorbar for reference\n",
    "fig.colorbar(cax)\n",
    "\n",
    "cm = confusion_matrix(y_test, predictions, y)\n",
    "\n",
    "# add labels to plot\n",
    "plt.xlabel(\"Predicted\")\n",
    "plt.ylabel(\"True\")\n",
    "\n",
    "accuracy = np.trace(cm) / float(np.sum(cm))\n",
    "misclass = 1 - accuracy\n",
    "plt.xlabel('Predicted label\\naccuracy={:0.3f}; misclass={:0.1f}'.format(accuracy, misclass))\n",
    "\n",
    "plt.show()"
   ]
  },
  {
   "cell_type": "markdown",
   "metadata": {},
   "source": [
    "# Simulated annealing (SA)"
   ]
  },
  {
   "cell_type": "code",
   "execution_count": null,
   "metadata": {},
   "outputs": [],
   "source": [
    "\n",
    "# random sequence (length 100aa) with average amino acid composition (computed from Swiss-Prot)\n",
    "# from: https://web.expasy.org/randseq/\n",
    "antigenseq = \"RVQPTESIVRFPNITNLCPFGEVFNATRFASVYAWNRKRISNCVADYSVLYNSASFSTFKCYGVSPTKLNDLCFTNVYADSFVIRGDEVRQIAPGQTGKIADYNYKLPDDFTGCVIAWNSNNLDSKVGGNYNYLYRLFRKSNLKPFERDISTEIYQAGSTPCNGVEGFNCYFPLQSYGFQPTNGVGYQPYRVVVLSFELLHAPATVCGPKKSTNLVKNKCVNF\"\n",
    "\n",
    "\n",
    "#ran_seq = 'MAQVQLVESGGALVQPGGSLRLSCAASGFPVNRYSMRWYRQAPGKEREWVAGMSSAGDRSSYEDSVKGRFTISRDDARNTVYLQMNSLKPEDTAVYYCNVNVGFEYWGQGTQVTVSSHHHHHH' \n",
    "ran_seq = 'EFQQVGPIICTRSTTFLTAPRFNWPYNDKPNTERNIEKIGLDGASEIVLAIGEVVRAEVSLNLEADAEVGAKMYTRPGVYLHHGSTAKLLAFKVAQSDKDLAFSGRLPKLQVRIDMILGHLQESYCSMDS' \n",
    "dictionary = {\"D\": 0,\"E\": 1,\"C\": 2,\"N\": 3,\"F\": 4,\"Q\": 5,\"Y\": 6,\"S\": 7, \"M\": 8,\"T\": 9,\"I\": 10,\"G\": 11,\"V\": 12,\"W\": 13,\"L\": 14,\"A\": 15,\"P\": 16,\"H\": 17,\"K\": 18,\"R\": 19}\n",
    "\n",
    "seq_onehot = AAseq(ran_seq, dictionary)\n",
    "charge_onehot = AAcharge(ran_seq, antigenseq, dictionary, charge_df)\n",
    "hydroph_onehot = AAhydroph(ran_seq, antigenseq, dictionary, hydroph_df)\n",
    "\n",
    "X_original = cv2.imread(img)\n",
    "\n",
    "a = np.array(seq_onehot)\n",
    "b = np.array(charge_onehot)\n",
    "c = np.array(hydroph_onehot)\n",
    "\n",
    "X_array = np.dstack([a,b,c])\n",
    "X_original = tf.image.resize_with_pad(X_array, 698, 163, method=tf.image.ResizeMethod.BILINEAR, antialias=False)\n",
    "X_original = np.array(X_original).astype(np.float32)\n",
    "X_original = X_original.reshape(X_original.shape[0], X_original.shape[1], X_original.shape[2])\n",
    "X_original = X_original.astype(\"float\") / 255.0\n",
    "\n",
    "pred_init = model.predict( np.array( [X_original,]))[0][0]\n",
    "\n",
    "\n",
    "\n",
    "print(pred_init)\n",
    "pred = 0\n",
    "count = 0\n",
    "c = 0\n",
    "\n",
    "pred_best = 0\n",
    "seq_best = ''\n",
    "\n",
    "while pred < 0.95:\n",
    "\n",
    "    temp_seq = ran_seq\n",
    "    \n",
    "    letter = random.choice(list(dictionary))\n",
    "    number = random.randint(0,len(ran_seq)-1)\n",
    "    mut_seq = list(ran_seq)\n",
    "    mut_seq[number] = letter\n",
    "    mut_seq = ''.join(mut_seq)\n",
    "    \n",
    "    \n",
    "    seq_onehot = AAseq(mut_seq, dictionary)\n",
    "    charge_onehot = AAcharge(mut_seq, antigenseq, dictionary, charge_df)\n",
    "    hydroph_onehot = AAhydroph(mut_seq, antigenseq, dictionary, hydroph_df)\n",
    "\n",
    "    X_opt = cv2.imread(img)\n",
    "\n",
    "    a = np.array(seq_onehot)\n",
    "    b = np.array(charge_onehot)\n",
    "    c = np.array(hydroph_onehot)\n",
    "\n",
    "    X_array = np.dstack([a,b,c])\n",
    "    X_opt = tf.image.resize_with_pad(X_array, 698, 163, method=tf.image.ResizeMethod.BILINEAR, antialias=False)\n",
    "    X_opt = np.array(X_opt).astype(np.float32)\n",
    "    X_opt = X_opt.reshape(X_opt.shape[0], X_opt.shape[1], X_opt.shape[2])\n",
    "    X_opt = X_opt.astype(\"float\") / 255.0\n",
    "\n",
    "    pred = model.predict( np.array( [X_opt,]))[0][0]\n",
    "\n",
    "    delta_pred = abs(pred - pred_init)\n",
    "    \n",
    "    if pred > pred_init:\n",
    "        \n",
    "        if pred > pred_best:\n",
    "            seq_best = mut_seq\n",
    "            pred_best = pred\n",
    "            print(pred_best, seq_best)\n",
    "        \n",
    "        ran_seq = mut_seq\n",
    "       \n",
    "    \n",
    "    elif random.uniform(0, 1) < math.exp(-delta_pred):\n",
    "        ran_seq = mut_seq\n",
    "    else:\n",
    "        ran_seq = temp_seq\n",
    "        \n",
    "    \n",
    "    pred_init = pred\n"
   ]
  },
  {
   "cell_type": "code",
   "execution_count": null,
   "metadata": {},
   "outputs": [],
   "source": []
  },
  {
   "cell_type": "code",
   "execution_count": null,
   "metadata": {},
   "outputs": [],
   "source": []
  }
 ],
 "metadata": {
  "kernelspec": {
   "display_name": "Python 3",
   "language": "python",
   "name": "python3"
  },
  "language_info": {
   "codemirror_mode": {
    "name": "ipython",
    "version": 3
   },
   "file_extension": ".py",
   "mimetype": "text/x-python",
   "name": "python",
   "nbconvert_exporter": "python",
   "pygments_lexer": "ipython3",
   "version": "3.7.4"
  }
 },
 "nbformat": 4,
 "nbformat_minor": 2
}
